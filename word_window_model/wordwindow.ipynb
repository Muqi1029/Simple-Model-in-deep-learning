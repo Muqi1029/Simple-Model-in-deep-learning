{
 "cells": [
  {
   "cell_type": "code",
   "execution_count": 36,
   "metadata": {
    "collapsed": true,
    "ExecuteTime": {
     "end_time": "2023-07-20T13:49:11.247808100Z",
     "start_time": "2023-07-20T13:49:11.232158900Z"
    }
   },
   "outputs": [],
   "source": [
    "from functools import partial\n",
    "import torch\n",
    "from word_window_model import train, custom_collate_fn"
   ]
  },
  {
   "cell_type": "markdown",
   "source": [
    "## Generate Dataset"
   ],
   "metadata": {
    "collapsed": false
   }
  },
  {
   "cell_type": "code",
   "execution_count": 37,
   "outputs": [],
   "source": [
    "training_data = [\n",
    "    \"We always come to Paris\",\n",
    "    \"The professor is from Australia\",\n",
    "    \"I live in Stanford\",\n",
    "    \"He comes from Taiwan\",\n",
    "    \"The capital of Turkey is Ankara\"\n",
    "]\n",
    "\n",
    "locations = {\"australia\", \"ankara\", \"paris\", \"stanford\", \"taiwan\", \"turkey\"}\n",
    "\n",
    "training_sentences = [sentence.lower().split() for sentence in training_data]\n",
    "\n",
    "training_labels = [[1 if word in locations else 0 for word in sentence] for sentence in training_sentences]\n",
    "\n",
    "# print(f\"training_sentences:\\n{training_sentences}\")\n",
    "# print(f\"training_labels:\\n{training_labels}\")"
   ],
   "metadata": {
    "collapsed": false,
    "ExecuteTime": {
     "end_time": "2023-07-20T13:49:12.146563900Z",
     "start_time": "2023-07-20T13:49:12.131013500Z"
    }
   }
  },
  {
   "cell_type": "markdown",
   "source": [
    "## Model Hyperparameters\n",
    "- window_size: the window\n",
    "- hidden_dim\n",
    "- embedded_dim\n",
    "- batch_size"
   ],
   "metadata": {
    "collapsed": false
   }
  },
  {
   "cell_type": "code",
   "execution_count": 38,
   "outputs": [],
   "source": [
    "model_hyperparameters = {\n",
    "    'window_size': 2,\n",
    "    'hidden_dim': 25,\n",
    "    'embedded_dim': 25,\n",
    "    'batch_size': 4\n",
    "}"
   ],
   "metadata": {
    "collapsed": false,
    "ExecuteTime": {
     "end_time": "2023-07-20T13:49:13.027518300Z",
     "start_time": "2023-07-20T13:49:13.008504600Z"
    }
   }
  },
  {
   "cell_type": "markdown",
   "source": [
    "### Training our model"
   ],
   "metadata": {
    "collapsed": false
   }
  },
  {
   "cell_type": "code",
   "execution_count": 39,
   "outputs": [
    {
     "name": "stderr",
     "output_type": "stream",
     "text": [
      "  4%|▍         | 45/1000 [00:00<00:02, 413.53it/s]"
     ]
    },
    {
     "name": "stdout",
     "output_type": "stream",
     "text": [
      "0.20507566258311272\n"
     ]
    },
    {
     "name": "stderr",
     "output_type": "stream",
     "text": [
      " 15%|█▌        | 150/1000 [00:00<00:01, 466.20it/s]"
     ]
    },
    {
     "name": "stdout",
     "output_type": "stream",
     "text": [
      "0.14433403685688972\n"
     ]
    },
    {
     "name": "stderr",
     "output_type": "stream",
     "text": [
      " 27%|██▋       | 266/1000 [00:00<00:01, 500.67it/s]"
     ]
    },
    {
     "name": "stdout",
     "output_type": "stream",
     "text": [
      "0.1214066743850708\n",
      "0.10080908611416817\n"
     ]
    },
    {
     "name": "stderr",
     "output_type": "stream",
     "text": [
      " 47%|████▋     | 467/1000 [00:00<00:01, 482.54it/s]"
     ]
    },
    {
     "name": "stdout",
     "output_type": "stream",
     "text": [
      "0.0808707382529974\n"
     ]
    },
    {
     "name": "stderr",
     "output_type": "stream",
     "text": [
      " 57%|█████▋    | 569/1000 [00:01<00:00, 482.62it/s]"
     ]
    },
    {
     "name": "stdout",
     "output_type": "stream",
     "text": [
      "0.08577993791550398\n"
     ]
    },
    {
     "name": "stderr",
     "output_type": "stream",
     "text": [
      " 66%|██████▋   | 665/1000 [00:01<00:00, 449.28it/s]"
     ]
    },
    {
     "name": "stdout",
     "output_type": "stream",
     "text": [
      "0.05147194303572178\n"
     ]
    },
    {
     "name": "stderr",
     "output_type": "stream",
     "text": [
      " 76%|███████▌  | 756/1000 [00:01<00:00, 436.98it/s]"
     ]
    },
    {
     "name": "stdout",
     "output_type": "stream",
     "text": [
      "0.02967604622244835\n"
     ]
    },
    {
     "name": "stderr",
     "output_type": "stream",
     "text": [
      " 86%|████████▋ | 865/1000 [00:01<00:00, 465.57it/s]"
     ]
    },
    {
     "name": "stdout",
     "output_type": "stream",
     "text": [
      "0.02411596290767193\n"
     ]
    },
    {
     "name": "stderr",
     "output_type": "stream",
     "text": [
      " 96%|█████████▌| 961/1000 [00:02<00:00, 448.08it/s]"
     ]
    },
    {
     "name": "stdout",
     "output_type": "stream",
     "text": [
      "0.03127680439502001\n"
     ]
    },
    {
     "name": "stderr",
     "output_type": "stream",
     "text": [
      "100%|██████████| 1000/1000 [00:02<00:00, 463.67it/s]\n"
     ]
    }
   ],
   "source": [
    "model, word2idx = train(training_data, training_labels, model_hyperparameters)"
   ],
   "metadata": {
    "collapsed": false,
    "ExecuteTime": {
     "end_time": "2023-07-20T13:49:16.906095800Z",
     "start_time": "2023-07-20T13:49:14.717466100Z"
    }
   }
  },
  {
   "cell_type": "markdown",
   "source": [
    "### Test"
   ],
   "metadata": {
    "collapsed": false
   }
  },
  {
   "cell_type": "code",
   "execution_count": 40,
   "outputs": [
    {
     "name": "stdout",
     "output_type": "stream",
     "text": [
      "True labels: tensor([[0, 0, 0, 1]])\n",
      "Estimated Probabilities: tensor([[0.0569, 0.0497, 0.0229, 0.9464]], grad_fn=<ViewBackward0>)\n"
     ]
    }
   ],
   "source": [
    "test_sentences = ['She comes from Paris']\n",
    "\n",
    "test_data = [sentence.lower().split() for sentence in test_sentences]\n",
    "test_labels = [[0, 0, 0, 1, ]]\n",
    "\n",
    "test_data = list(zip(test_data, test_labels))\n",
    "\n",
    "collate_fn = partial(custom_collate_fn, window_size=model_hyperparameters['window_size'], word2idx=word2idx)\n",
    "test_loader = torch.utils.data.DataLoader(test_data, batch_size=1, shuffle=False, collate_fn=collate_fn)\n",
    "\n",
    "for test_instance, labels, _ in test_loader:\n",
    "    outputs = model(test_instance)\n",
    "    print(f\"True labels: {labels}\")\n",
    "    print(f\"Estimated Probabilities: {outputs}\")"
   ],
   "metadata": {
    "collapsed": false,
    "ExecuteTime": {
     "end_time": "2023-07-20T13:49:21.385794400Z",
     "start_time": "2023-07-20T13:49:21.354532900Z"
    }
   }
  },
  {
   "cell_type": "markdown",
   "source": [
    "Based on the probabilities above, we can conclude that there is very high probability that the fourth word in the test sentence is a location word!"
   ],
   "metadata": {
    "collapsed": false
   }
  }
 ],
 "metadata": {
  "kernelspec": {
   "display_name": "Python 3",
   "language": "python",
   "name": "python3"
  },
  "language_info": {
   "codemirror_mode": {
    "name": "ipython",
    "version": 2
   },
   "file_extension": ".py",
   "mimetype": "text/x-python",
   "name": "python",
   "nbconvert_exporter": "python",
   "pygments_lexer": "ipython2",
   "version": "2.7.6"
  }
 },
 "nbformat": 4,
 "nbformat_minor": 0
}
